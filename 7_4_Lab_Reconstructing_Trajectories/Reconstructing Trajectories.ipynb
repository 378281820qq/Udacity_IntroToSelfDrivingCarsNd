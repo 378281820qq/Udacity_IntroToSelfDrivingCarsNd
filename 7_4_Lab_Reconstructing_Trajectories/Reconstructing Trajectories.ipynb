{
 "cells": [
  {
   "cell_type": "markdown",
   "metadata": {},
   "source": [
    "## Raw Input Data\n",
    "\n",
    "The data you'll be working with has been preprocessed from CSVs that looks like this:\n",
    "\n",
    "| timestamp | displacement  | yaw_rate | acceleration |\n",
    "| :-------: | :----------: | :------: | :----------: |\n",
    "| 0.0 | 0 | 0.0 | 0.0 |\n",
    "| 0.25 | 0.0 | 0.0 | 19.6 |\n",
    "| 0.5 | 1.225 | 0.0 | 19.6 |\n",
    "| 0.75 | 3.675 | 0.0 | 19.6 |\n",
    "| 1.0 | 7.35 | 0.0 | 19.6 |\n",
    "| 1.25 | 12.25 | 0.0 | 0.0 |\n",
    "| 1.5 | 17.15 | -2.82901631903 | 0.0 |\n",
    "| 1.75 | 22.05 | -2.82901631903 | 0.0 |\n",
    "| 2.0 | 26.95 | -2.82901631903 | 0.0 |\n",
    "| 2.25 | 31.85 | -2.82901631903 | 0.0 |\n",
    "| 2.5 | 36.75 | -2.82901631903 | 0.0 |\n",
    "| 2.75 | 41.65 | -2.82901631903 | 0.0 |\n",
    "| 3.0 | 46.55 | -2.82901631903 | 0.0 |\n",
    "| 3.25 | 51.45 | -2.82901631903 | 0.0 |\n",
    "| 3.5 | 56.35 | -2.82901631903 | 0.0 |\n",
    "\n",
    "This data is currently saved in a file called `trajectory_example.pickle`. It can be loaded using a helper function we've provided (demonstrated below):"
   ]
  },
  {
   "cell_type": "code",
   "execution_count": 14,
   "metadata": {},
   "outputs": [
    {
     "name": "stdout",
     "output_type": "stream",
     "text": [
      "(0.0, 0, 0.0, 0.0)\n",
      "(0.25, 0.0, 0.0, 19.600000000000001)\n",
      "(0.5, 1.2250000000000001, 0.0, 19.600000000000001)\n",
      "(0.75, 3.6750000000000003, 0.0, 19.600000000000001)\n",
      "(1.0, 7.3500000000000005, 0.0, 19.600000000000001)\n",
      "(1.25, 12.25, 0.0, 0.0)\n",
      "(1.5, 17.149999999999999, -2.8290163190291664, 0.0)\n",
      "(1.75, 22.049999999999997, -2.8290163190291664, 0.0)\n",
      "(2.0, 26.949999999999996, -2.8290163190291664, 0.0)\n",
      "(2.25, 31.849999999999994, -2.8290163190291664, 0.0)\n",
      "(2.5, 36.749999999999993, -2.8290163190291664, 0.0)\n",
      "(2.75, 41.649999999999991, -2.8290163190291664, 0.0)\n",
      "(3.0, 46.54999999999999, -2.8290163190291664, 0.0)\n",
      "(3.25, 51.449999999999989, -2.8290163190291664, 0.0)\n",
      "(3.5, 56.349999999999987, -2.8290163190291664, 0.0)\n"
     ]
    }
   ],
   "source": [
    "from helpers import process_data\n",
    "\n",
    "data_list = process_data(\"trajectory_example.pickle\")\n",
    "\n",
    "for entry in data_list:\n",
    "    print(entry)"
   ]
  },
  {
   "cell_type": "markdown",
   "metadata": {},
   "source": [
    "as you can see, each entry in `data_list` contains four fields. Those fields correspond to `timestamp` (seconds), `displacement` (meters), `yaw_rate` (rads / sec), and `acceleration` (m/s/s).\n",
    "\n",
    "### The Point of this Project!\n",
    "**Data tells a story but you have to know how to find it!** \n",
    "\n",
    "Contained in the data above is all the information you need to reconstruct a fairly complex vehicle trajectory. After processing **this** exact data, it's possible to generate this plot of the vehicle's X and Y position:\n",
    "\n",
    "![](https://d17h27t6h515a5.cloudfront.net/topher/2017/December/5a3044ac_example-trajectory/example-trajectory.png)\n",
    "\n",
    "as you can see, this vehicle first accelerates forwards and then turns right until it almost completes a full circle turn.\n",
    "\n",
    "### Data Explained\n",
    "\n",
    "**`timestamp`** - Timestamps are all measured in seconds. The time between successive timestamps ($\\Delta t$) will always be the same *within* a trajectory's data set (but not *between* data sets).\n",
    "\n",
    "**`displacement`** - Displacement data from the odometer is in meters and gives the **total** distance traveled up to this point.\n",
    "\n",
    "**`yaw_rate`** - Yaw rate is measured in radians per second with the convention that positive yaw corresponds to *counter-clockwise* rotation. \n",
    "\n",
    "**`acceleration`** - Acceleration is measured in $\\frac{m/s}{s}$ and is always **in the direction of motion of the vehicle** (forward). \n",
    "\n",
    "> **NOTE** - you may not need to use all of this data when reconstructing vehicle trajectories."
   ]
  },
  {
   "cell_type": "markdown",
   "metadata": {},
   "source": [
    "## Your Job\n",
    "Your job is to complete the following functions, all of which take a processed `data_list` (with $N$ entries, each $\\Delta t$ apart) as input:\n",
    "\n",
    "* `get_speeds` - returns a length $N$ list where entry $i$ contains the speed ($m/s$) of the vehicle at $t = i \\times \\Delta t$ \n",
    "\n",
    "* `get_headings` - returns a length $N$ list where entry $i$ contains the heading (radians, $0 \\leq \\theta < 2\\pi$) of the vehicle at $t = i \\times \\Delta t$\n",
    "\n",
    "* `get_x_y` - returns a length $N$ list where entry $i$ contains an `(x, y)` tuple corresponding to the $x$ and $y$ coordinates (meters) of the vehicle at $t = i \\times \\Delta t$ \n",
    "\n",
    "* `show_x_y` - generates an x vs. y scatter plot of vehicle positions. "
   ]
  },
  {
   "cell_type": "code",
   "execution_count": 15,
   "metadata": {},
   "outputs": [
    {
     "data": {
      "image/png": "[encoded data removed]",
      "text/plain": [
       "<matplotlib.figure.Figure at 0x117f4d518>"
      ]
     },
     "metadata": {},
     "output_type": "display_data"
    }
   ],
   "source": [
    "# I've provided a solution file called solution.py\n",
    "# You are STRONGLY encouraged to NOT look at the code\n",
    "# until after you have solved this yourself.\n",
    "#\n",
    "# You SHOULD, however, feel free to USE the solution \n",
    "# functions to help you understand what your code should\n",
    "# be doing. For example...\n",
    "from helpers import process_data\n",
    "import solution\n",
    "\n",
    "data_list = process_data(\"trajectory_example.pickle\")\n",
    "solution.show_x_y(data_list)"
   ]
  },
  {
   "cell_type": "code",
   "execution_count": 16,
   "metadata": {},
   "outputs": [
    {
     "data": {
      "image/png": "[encoded data removed]",
      "text/plain": [
       "<matplotlib.figure.Figure at 0x10ef8e2b0>"
      ]
     },
     "metadata": {},
     "output_type": "display_data"
    }
   ],
   "source": [
    "# What about the other trajectories?\n",
    "\n",
    "three_quarter_turn_data = process_data(\"trajectory_1.pickle\")\n",
    "solution.show_x_y(three_quarter_turn_data, increment=10)"
   ]
  },
  {
   "cell_type": "code",
   "execution_count": 17,
   "metadata": {},
   "outputs": [
    {
     "data": {
      "image/png": "[encoded data removed]",
      "text/plain": [
       "<matplotlib.figure.Figure at 0x1181f4358>"
      ]
     },
     "metadata": {},
     "output_type": "display_data"
    }
   ],
   "source": [
    "merge_data = process_data('trajectory_2.pickle')\n",
    "solution.show_x_y(merge_data,increment=10)"
   ]
  },
  {
   "cell_type": "code",
   "execution_count": 18,
   "metadata": {},
   "outputs": [
    {
     "data": {
      "image/png": "[encoded data removed]",
      "text/plain": [
       "<matplotlib.figure.Figure at 0x10bca3a20>"
      ]
     },
     "metadata": {},
     "output_type": "display_data"
    }
   ],
   "source": [
    "parallel_park = process_data(\"trajectory_3.pickle\")\n",
    "solution.show_x_y(parallel_park,increment=5)"
   ]
  },
  {
   "cell_type": "markdown",
   "metadata": {},
   "source": [
    "**How do you make those cool arrows?!**\n",
    "\n",
    "I did a Google search for \"python plot grid of arrows\" and the second result led me to some [demonstration code](https://matplotlib.org/examples/pylab_examples/quiver_demo.html) that was really helpful. "
   ]
  },
  {
   "cell_type": "markdown",
   "metadata": {},
   "source": [
    "## Testing Correctness\n",
    "Testing code is provided at the bottom of this notebook. Note that only `get_speeds`, `get_x_y`, and `get_headings` are tested automatically. You will have to \"test\" your `show_x_y` function by manually comparing your plots to the expected plots. "
   ]
  },
  {
   "cell_type": "markdown",
   "metadata": {},
   "source": [
    "### Initial Vehicle State\n",
    "\n",
    "The vehicle always begins with all state variables equal to zero. This means `x`, `y`, `theta` (heading), `speed`, `yaw_rate`, and `acceleration` are 0 at t=0."
   ]
  },
  {
   "cell_type": "markdown",
   "metadata": {},
   "source": [
    "----"
   ]
  },
  {
   "cell_type": "markdown",
   "metadata": {},
   "source": [
    "## Your Code!\n",
    "Complete the functions in the cell below. I recommend completing them in the order shown. Use the cells at the end of the notebook to test as you go."
   ]
  },
  {
   "cell_type": "code",
   "execution_count": 24,
   "metadata": {},
   "outputs": [],
   "source": [
    "from math import cos, sin, pi\n",
    "import matplotlib.pyplot as plt\n",
    "import warnings\n",
    "warnings.filterwarnings('ignore')\n",
    "\n",
    "# Define column indicies in data array data_list\n",
    "timestamp_index = 0\n",
    "displacement_index = 1\n",
    "yaw_rate_index = 2\n",
    "acceleration_index = 3\n",
    "\n",
    "def get_speeds(data_list):\n",
    "    \"\"\"\n",
    "    Converts the data_list to a list of speeds at a given time stamps by keeping \n",
    "    track of the current speed and adjusting it by the acceleration and time delta\n",
    "    \n",
    "    Return:  The list of speeds\n",
    "    \"\"\"\n",
    "    speed = 0.0\n",
    "    \n",
    "    speeds = [speed]\n",
    "    for index in range(1,len(data_list)):\n",
    "        last_row = data_list[index-1]\n",
    "        row = data_list[index]\n",
    "        \n",
    "        time = row[timestamp_index]-last_row[timestamp_index]\n",
    "        acceleration = row[acceleration_index]\n",
    "        speed += time*acceleration\n",
    "        speeds.append(speed)\n",
    "    \n",
    "    return speeds\n",
    "\n",
    "def get_headings(data_list):\n",
    "    \"\"\"\n",
    "    Converts the data_list to a list of headings by keeping track of the current\n",
    "    heading and adjusting it by the yaw_rate multiplied by time_delta.\n",
    "    \n",
    "    Return: The current heading at each time stamp in degree\n",
    "    \"\"\"\n",
    "    heading = 0.0\n",
    "    headings = [heading]\n",
    "    \n",
    "    for index in range(1,len(data_list)):\n",
    "        last_row = data_list[index-1]\n",
    "        row = data_list[index]\n",
    "    \n",
    "        time = row[timestamp_index]-last_row[timestamp_index]\n",
    "        diff = row[yaw_rate_index]\n",
    "        heading += time*diff\n",
    "        headings.append(heading)\n",
    "\n",
    "    return headings\n",
    "\n",
    "def get_x_y(data_list):\n",
    "    \"\"\"\n",
    "    Converts the data_list to a list of coordinates by keeping track of the\n",
    "    current position and adjusting it using the known heading, displacement\n",
    "    and time delta.\n",
    "    \n",
    "    Return: The list of vehicle coordinates\n",
    "    \"\"\"\n",
    "    \n",
    "    headings = get_headings(data_list)\n",
    "\n",
    "    x = 0\n",
    "    y = 0\n",
    "    \n",
    "    positions = [(x,y)]\n",
    "    \n",
    "    for index in range(1,len(data_list)):\n",
    "        \n",
    "        positions.append((x,y))\n",
    "\n",
    "        last_row = data_list[index-1]\n",
    "        row = data_list[index]\n",
    "    \n",
    "        time = row[timestamp_index]-last_row[timestamp_index]\n",
    "        move_diff = row[displacement_index]-last_row[displacement_index]\n",
    "        heading = headings[index]\n",
    "\n",
    "        x += cos(heading)*move_diff\n",
    "        y += sin(heading)*move_diff\n",
    "\n",
    "    return positions\n",
    "\n",
    "def show_x_y(data_list):\n",
    "    \"\"\"\n",
    "    Shows the vehicle's position and movement direction at all time stamps\n",
    "    \"\"\"\n",
    "    \n",
    "    positions = get_x_y(data_list)\n",
    "    headings = get_headings(data_list)\n",
    "    \n",
    "    X = [row[0] for row in positions]\n",
    "    Y = [row[1] for row in positions]\n",
    "    U = [cos(heading) for heading in headings]\n",
    "    V = [sin(heading) for heading in headings]\n",
    "    \n",
    "    plt.figure()\n",
    "    plt.title('Trajectory visualization')\n",
    "    plt.axes().set_aspect('equal')\n",
    "    Q = plt.quiver(X, Y, U, V, units='width')\n",
    "    qk = plt.quiverkey(Q, 0.9, 0.9, 2, r'$2 \\frac{m}{s}$', labelpos='E', coordinates='figure')\n",
    "    plt.show()\n",
    "    \n",
    "    return"
   ]
  },
  {
   "cell_type": "markdown",
   "metadata": {},
   "source": [
    "## Testing\n",
    "Test your functions by running the cells below."
   ]
  },
  {
   "cell_type": "code",
   "execution_count": 20,
   "metadata": {},
   "outputs": [
    {
     "name": "stdout",
     "output_type": "stream",
     "text": [
      "PASSED test of get_speeds function!\n"
     ]
    }
   ],
   "source": [
    "from testing import test_get_speeds, test_get_x_y, test_get_headings\n",
    "\n",
    "test_get_speeds(get_speeds)"
   ]
  },
  {
   "cell_type": "code",
   "execution_count": 21,
   "metadata": {},
   "outputs": [
    {
     "name": "stdout",
     "output_type": "stream",
     "text": [
      "PASSED test of get_x_y function!\n"
     ]
    }
   ],
   "source": [
    "test_get_x_y(get_x_y)"
   ]
  },
  {
   "cell_type": "code",
   "execution_count": 22,
   "metadata": {},
   "outputs": [
    {
     "name": "stdout",
     "output_type": "stream",
     "text": [
      "PASSED test of get_headings function!\n"
     ]
    }
   ],
   "source": [
    "test_get_headings(get_headings)"
   ]
  },
  {
   "cell_type": "code",
   "execution_count": 25,
   "metadata": {},
   "outputs": [
    {
     "data": {
      "image/png": "[encoded data removed]",
      "text/plain": [
       "<matplotlib.figure.Figure at 0x118101780>"
      ]
     },
     "metadata": {},
     "output_type": "display_data"
    }
   ],
   "source": [
    "show_x_y(data_list)"
   ]
  },
  {
   "cell_type": "code",
   "execution_count": null,
   "metadata": {},
   "outputs": [],
   "source": []
  }
 ],
 "metadata": {
  "kernelspec": {
   "display_name": "Python [default]",
   "language": "python",
   "name": "python3"
  },
  "language_info": {
   "codemirror_mode": {
    "name": "ipython",
    "version": 3
   },
   "file_extension": ".py",
   "mimetype": "text/x-python",
   "name": "python",
   "nbconvert_exporter": "python",
   "pygments_lexer": "ipython3",
   "version": "3.5.4"
  }
 },
 "nbformat": 4,
 "nbformat_minor": 2
}
